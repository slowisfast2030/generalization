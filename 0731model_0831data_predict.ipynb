{
 "cells": [
  {
   "cell_type": "code",
   "execution_count": 1,
   "metadata": {},
   "outputs": [],
   "source": [
    "import re\n",
    "import json\n",
    "import numpy as np\n",
    "import pandas as pd\n",
    "import jieba\n",
    "from zhconv import convert\n",
    "from sklearn.feature_extraction.text import TfidfVectorizer\n",
    "from sklearn.decomposition import PCA"
   ]
  },
  {
   "cell_type": "code",
   "execution_count": 3,
   "metadata": {},
   "outputs": [
    {
     "data": {
      "text/html": [
       "<div>\n",
       "<style scoped>\n",
       "    .dataframe tbody tr th:only-of-type {\n",
       "        vertical-align: middle;\n",
       "    }\n",
       "\n",
       "    .dataframe tbody tr th {\n",
       "        vertical-align: top;\n",
       "    }\n",
       "\n",
       "    .dataframe thead th {\n",
       "        text-align: right;\n",
       "    }\n",
       "</style>\n",
       "<table border=\"1\" class=\"dataframe\">\n",
       "  <thead>\n",
       "    <tr style=\"text-align: right;\">\n",
       "      <th></th>\n",
       "      <th>cv_id</th>\n",
       "      <th>jd_id</th>\n",
       "      <th>da_label</th>\n",
       "      <th>rank_label</th>\n",
       "      <th>resume_type</th>\n",
       "      <th>order_month</th>\n",
       "    </tr>\n",
       "  </thead>\n",
       "  <tbody>\n",
       "    <tr>\n",
       "      <th>0</th>\n",
       "      <td>8a69c41582926ae60182a07b24c1048c</td>\n",
       "      <td>8a69f62f82926a8601829f1379a07648</td>\n",
       "      <td>2</td>\n",
       "      <td>2</td>\n",
       "      <td>4.0</td>\n",
       "      <td>2022-08</td>\n",
       "    </tr>\n",
       "    <tr>\n",
       "      <th>1</th>\n",
       "      <td>8a69c41582926ae60182a0e09bf27664</td>\n",
       "      <td>8a69d77e82926b410182a083fbf602c0</td>\n",
       "      <td>3</td>\n",
       "      <td>3</td>\n",
       "      <td>4.0</td>\n",
       "      <td>2022-08</td>\n",
       "    </tr>\n",
       "    <tr>\n",
       "      <th>2</th>\n",
       "      <td>8a69c41582926ae60182a119de713808</td>\n",
       "      <td>8a69f68782590ecb01826326b5e94919</td>\n",
       "      <td>-1</td>\n",
       "      <td>2</td>\n",
       "      <td>4.0</td>\n",
       "      <td>2022-08</td>\n",
       "    </tr>\n",
       "    <tr>\n",
       "      <th>3</th>\n",
       "      <td>8a69c41582a3cc240182b0354c0e7bad</td>\n",
       "      <td>2c92071581ebf3390181ec9e500755e4</td>\n",
       "      <td>1</td>\n",
       "      <td>1</td>\n",
       "      <td>4.0</td>\n",
       "      <td>2022-08</td>\n",
       "    </tr>\n",
       "    <tr>\n",
       "      <th>4</th>\n",
       "      <td>8a69c4a3827cc886018284b9612d0f03</td>\n",
       "      <td>8a69f601823a92b0018243dcb9c45f7a</td>\n",
       "      <td>-1</td>\n",
       "      <td>1</td>\n",
       "      <td>4.0</td>\n",
       "      <td>2022-08</td>\n",
       "    </tr>\n",
       "    <tr>\n",
       "      <th>...</th>\n",
       "      <td>...</td>\n",
       "      <td>...</td>\n",
       "      <td>...</td>\n",
       "      <td>...</td>\n",
       "      <td>...</td>\n",
       "      <td>...</td>\n",
       "    </tr>\n",
       "    <tr>\n",
       "      <th>6103</th>\n",
       "      <td>8a69d71b82add4e10182aebff7d016d2</td>\n",
       "      <td>8a69c468826ee9b4018290a64a0c01bb</td>\n",
       "      <td>2</td>\n",
       "      <td>2</td>\n",
       "      <td>4.0</td>\n",
       "      <td>2022-08</td>\n",
       "    </tr>\n",
       "    <tr>\n",
       "      <th>6104</th>\n",
       "      <td>8a69d7b4826d7dfb01826d7efad200f1</td>\n",
       "      <td>2c920715818a462a01818e3f9c0a2337</td>\n",
       "      <td>3</td>\n",
       "      <td>3</td>\n",
       "      <td>4.0</td>\n",
       "      <td>2022-08</td>\n",
       "    </tr>\n",
       "    <tr>\n",
       "      <th>6105</th>\n",
       "      <td>8a69d7c28219945301823a12e0266463</td>\n",
       "      <td>8a69c4df82b081d30182c9ec1ecd1c67</td>\n",
       "      <td>-1</td>\n",
       "      <td>1</td>\n",
       "      <td>5.0</td>\n",
       "      <td>2022-08</td>\n",
       "    </tr>\n",
       "    <tr>\n",
       "      <th>6106</th>\n",
       "      <td>8a69d7c282199453018247bb00cb68a3</td>\n",
       "      <td>8a69c468826ee9b40182831bedfc5e79</td>\n",
       "      <td>3</td>\n",
       "      <td>3</td>\n",
       "      <td>4.0</td>\n",
       "      <td>2022-08</td>\n",
       "    </tr>\n",
       "    <tr>\n",
       "      <th>6107</th>\n",
       "      <td>8a69f68b828a2cd901829182c78e1c50</td>\n",
       "      <td>8a69c468826ee9b4018290a8b6460496</td>\n",
       "      <td>3</td>\n",
       "      <td>3</td>\n",
       "      <td>4.0</td>\n",
       "      <td>2022-08</td>\n",
       "    </tr>\n",
       "  </tbody>\n",
       "</table>\n",
       "<p>6108 rows × 6 columns</p>\n",
       "</div>"
      ],
      "text/plain": [
       "                                 cv_id                             jd_id  \\\n",
       "0     8a69c41582926ae60182a07b24c1048c  8a69f62f82926a8601829f1379a07648   \n",
       "1     8a69c41582926ae60182a0e09bf27664  8a69d77e82926b410182a083fbf602c0   \n",
       "2     8a69c41582926ae60182a119de713808  8a69f68782590ecb01826326b5e94919   \n",
       "3     8a69c41582a3cc240182b0354c0e7bad  2c92071581ebf3390181ec9e500755e4   \n",
       "4     8a69c4a3827cc886018284b9612d0f03  8a69f601823a92b0018243dcb9c45f7a   \n",
       "...                                ...                               ...   \n",
       "6103  8a69d71b82add4e10182aebff7d016d2  8a69c468826ee9b4018290a64a0c01bb   \n",
       "6104  8a69d7b4826d7dfb01826d7efad200f1  2c920715818a462a01818e3f9c0a2337   \n",
       "6105  8a69d7c28219945301823a12e0266463  8a69c4df82b081d30182c9ec1ecd1c67   \n",
       "6106  8a69d7c282199453018247bb00cb68a3  8a69c468826ee9b40182831bedfc5e79   \n",
       "6107  8a69f68b828a2cd901829182c78e1c50  8a69c468826ee9b4018290a8b6460496   \n",
       "\n",
       "      da_label  rank_label  resume_type order_month  \n",
       "0            2           2          4.0     2022-08  \n",
       "1            3           3          4.0     2022-08  \n",
       "2           -1           2          4.0     2022-08  \n",
       "3            1           1          4.0     2022-08  \n",
       "4           -1           1          4.0     2022-08  \n",
       "...        ...         ...          ...         ...  \n",
       "6103         2           2          4.0     2022-08  \n",
       "6104         3           3          4.0     2022-08  \n",
       "6105        -1           1          5.0     2022-08  \n",
       "6106         3           3          4.0     2022-08  \n",
       "6107         3           3          4.0     2022-08  \n",
       "\n",
       "[6108 rows x 6 columns]"
      ]
     },
     "execution_count": 3,
     "metadata": {},
     "output_type": "execute_result"
    }
   ],
   "source": [
    "# 读取8月份的数据\n",
    "cvjd_202208_6108 = pd.read_pickle('../generalization_data/cvjd_202208_6108.pkl').reset_index(drop=True)\n",
    "cvjd_202208_6108"
   ]
  },
  {
   "cell_type": "code",
   "execution_count": 5,
   "metadata": {},
   "outputs": [
    {
     "data": {
      "text/plain": [
       "2022-08    6108\n",
       "Name: order_month, dtype: int64"
      ]
     },
     "execution_count": 5,
     "metadata": {},
     "output_type": "execute_result"
    }
   ],
   "source": [
    "cvjd_202208_6108['order_month'].value_counts()"
   ]
  },
  {
   "cell_type": "code",
   "execution_count": 4,
   "metadata": {},
   "outputs": [
    {
     "data": {
      "text/html": [
       "<div>\n",
       "<style scoped>\n",
       "    .dataframe tbody tr th:only-of-type {\n",
       "        vertical-align: middle;\n",
       "    }\n",
       "\n",
       "    .dataframe tbody tr th {\n",
       "        vertical-align: top;\n",
       "    }\n",
       "\n",
       "    .dataframe thead th {\n",
       "        text-align: right;\n",
       "    }\n",
       "</style>\n",
       "<table border=\"1\" class=\"dataframe\">\n",
       "  <thead>\n",
       "    <tr style=\"text-align: right;\">\n",
       "      <th></th>\n",
       "      <th>cv_id</th>\n",
       "      <th>jd_id</th>\n",
       "      <th>da_label</th>\n",
       "      <th>rank_label</th>\n",
       "      <th>resume_type</th>\n",
       "      <th>order_month</th>\n",
       "    </tr>\n",
       "  </thead>\n",
       "  <tbody>\n",
       "    <tr>\n",
       "      <th>0</th>\n",
       "      <td>2c9207157bcb9549017bce3ea49b00fa</td>\n",
       "      <td>2c9207157bcbb76b017bce3d99ba059a</td>\n",
       "      <td>1</td>\n",
       "      <td>1</td>\n",
       "      <td>NaN</td>\n",
       "      <td>2021-09</td>\n",
       "    </tr>\n",
       "    <tr>\n",
       "      <th>1</th>\n",
       "      <td>2c9207157bf91042017c1040330d04d3</td>\n",
       "      <td>2c9207157bcbb76b017bec76efca1ca5</td>\n",
       "      <td>-1</td>\n",
       "      <td>1</td>\n",
       "      <td>4.0</td>\n",
       "      <td>2021-09</td>\n",
       "    </tr>\n",
       "    <tr>\n",
       "      <th>2</th>\n",
       "      <td>2c9207157bf91042017c10f871d309f4</td>\n",
       "      <td>2c9207157f347800017f624770866105</td>\n",
       "      <td>1</td>\n",
       "      <td>1</td>\n",
       "      <td>4.0</td>\n",
       "      <td>2022-03</td>\n",
       "    </tr>\n",
       "    <tr>\n",
       "      <th>3</th>\n",
       "      <td>2c9207157bf91042017c62fce2583411</td>\n",
       "      <td>2c9207157b9b9199017bca11fd3d3f11</td>\n",
       "      <td>2</td>\n",
       "      <td>2</td>\n",
       "      <td>NaN</td>\n",
       "      <td>2021-10</td>\n",
       "    </tr>\n",
       "    <tr>\n",
       "      <th>4</th>\n",
       "      <td>2c9207157bf91042017c6ecc163d3aa8</td>\n",
       "      <td>2c9207157bf94d99017c6ecb294930b1</td>\n",
       "      <td>3</td>\n",
       "      <td>3</td>\n",
       "      <td>NaN</td>\n",
       "      <td>2021-10</td>\n",
       "    </tr>\n",
       "    <tr>\n",
       "      <th>...</th>\n",
       "      <td>...</td>\n",
       "      <td>...</td>\n",
       "      <td>...</td>\n",
       "      <td>...</td>\n",
       "      <td>...</td>\n",
       "      <td>...</td>\n",
       "    </tr>\n",
       "    <tr>\n",
       "      <th>73451</th>\n",
       "      <td>8a69d7a68219933d01823d93f8022296</td>\n",
       "      <td>2c92071581ebf3390182009a771b5b07</td>\n",
       "      <td>1</td>\n",
       "      <td>1</td>\n",
       "      <td>4.0</td>\n",
       "      <td>2022-07</td>\n",
       "    </tr>\n",
       "    <tr>\n",
       "      <th>73452</th>\n",
       "      <td>8a69d7c2821994530182334ac6bb128e</td>\n",
       "      <td>8a69c4a8820f0ee00182143af21d26f8</td>\n",
       "      <td>-1</td>\n",
       "      <td>2</td>\n",
       "      <td>4.0</td>\n",
       "      <td>2022-07</td>\n",
       "    </tr>\n",
       "    <tr>\n",
       "      <th>73453</th>\n",
       "      <td>8a69d7c2821994530182386fdad44a80</td>\n",
       "      <td>8a69f67f82198d89018223bca0291137</td>\n",
       "      <td>3</td>\n",
       "      <td>3</td>\n",
       "      <td>4.0</td>\n",
       "      <td>2022-07</td>\n",
       "    </tr>\n",
       "    <tr>\n",
       "      <th>73454</th>\n",
       "      <td>8a69d7c282199453018246ebf6b60643</td>\n",
       "      <td>8a69f67f82198d89018234adfcd91510</td>\n",
       "      <td>-1</td>\n",
       "      <td>2</td>\n",
       "      <td>4.0</td>\n",
       "      <td>2022-07</td>\n",
       "    </tr>\n",
       "    <tr>\n",
       "      <th>73455</th>\n",
       "      <td>8a69d7c282199453018247bb00cb68a3</td>\n",
       "      <td>8a69f6f8823a93b9018247c30aca4e3d</td>\n",
       "      <td>-1</td>\n",
       "      <td>2</td>\n",
       "      <td>4.0</td>\n",
       "      <td>2022-07</td>\n",
       "    </tr>\n",
       "  </tbody>\n",
       "</table>\n",
       "<p>73456 rows × 6 columns</p>\n",
       "</div>"
      ],
      "text/plain": [
       "                                  cv_id                             jd_id  \\\n",
       "0      2c9207157bcb9549017bce3ea49b00fa  2c9207157bcbb76b017bce3d99ba059a   \n",
       "1      2c9207157bf91042017c1040330d04d3  2c9207157bcbb76b017bec76efca1ca5   \n",
       "2      2c9207157bf91042017c10f871d309f4  2c9207157f347800017f624770866105   \n",
       "3      2c9207157bf91042017c62fce2583411  2c9207157b9b9199017bca11fd3d3f11   \n",
       "4      2c9207157bf91042017c6ecc163d3aa8  2c9207157bf94d99017c6ecb294930b1   \n",
       "...                                 ...                               ...   \n",
       "73451  8a69d7a68219933d01823d93f8022296  2c92071581ebf3390182009a771b5b07   \n",
       "73452  8a69d7c2821994530182334ac6bb128e  8a69c4a8820f0ee00182143af21d26f8   \n",
       "73453  8a69d7c2821994530182386fdad44a80  8a69f67f82198d89018223bca0291137   \n",
       "73454  8a69d7c282199453018246ebf6b60643  8a69f67f82198d89018234adfcd91510   \n",
       "73455  8a69d7c282199453018247bb00cb68a3  8a69f6f8823a93b9018247c30aca4e3d   \n",
       "\n",
       "       da_label  rank_label  resume_type order_month  \n",
       "0             1           1          NaN     2021-09  \n",
       "1            -1           1          4.0     2021-09  \n",
       "2             1           1          4.0     2022-03  \n",
       "3             2           2          NaN     2021-10  \n",
       "4             3           3          NaN     2021-10  \n",
       "...         ...         ...          ...         ...  \n",
       "73451         1           1          4.0     2022-07  \n",
       "73452        -1           2          4.0     2022-07  \n",
       "73453         3           3          4.0     2022-07  \n",
       "73454        -1           2          4.0     2022-07  \n",
       "73455        -1           2          4.0     2022-07  \n",
       "\n",
       "[73456 rows x 6 columns]"
      ]
     },
     "execution_count": 4,
     "metadata": {},
     "output_type": "execute_result"
    }
   ],
   "source": [
    "# 这里是做一个检查。训练集和测试集的数据截止到20220731\n",
    "cvjd_traintest_73456 = pd.read_pickle('../generalization_data/cvjd_traintest_73456.pkl').reset_index(drop=True)\n",
    "cvjd_traintest_73456"
   ]
  },
  {
   "cell_type": "code",
   "execution_count": 6,
   "metadata": {},
   "outputs": [
    {
     "data": {
      "text/plain": [
       "2022-04    15247\n",
       "2022-06    13917\n",
       "2022-05    12662\n",
       "2022-03    10293\n",
       "2022-02     7969\n",
       "2022-07     7677\n",
       "2022-01     3210\n",
       "2021-12     1748\n",
       "2021-11      328\n",
       "2021-09      264\n",
       "2021-10      141\n",
       "Name: order_month, dtype: int64"
      ]
     },
     "execution_count": 6,
     "metadata": {},
     "output_type": "execute_result"
    }
   ],
   "source": [
    "cvjd_traintest_73456['order_month'].value_counts()"
   ]
  },
  {
   "cell_type": "code",
   "execution_count": null,
   "metadata": {},
   "outputs": [],
   "source": []
  },
  {
   "cell_type": "code",
   "execution_count": null,
   "metadata": {},
   "outputs": [],
   "source": []
  },
  {
   "cell_type": "code",
   "execution_count": null,
   "metadata": {},
   "outputs": [],
   "source": []
  },
  {
   "cell_type": "code",
   "execution_count": null,
   "metadata": {},
   "outputs": [],
   "source": []
  },
  {
   "cell_type": "code",
   "execution_count": null,
   "metadata": {},
   "outputs": [],
   "source": []
  },
  {
   "cell_type": "code",
   "execution_count": null,
   "metadata": {},
   "outputs": [],
   "source": []
  },
  {
   "cell_type": "code",
   "execution_count": null,
   "metadata": {},
   "outputs": [],
   "source": []
  },
  {
   "cell_type": "code",
   "execution_count": null,
   "metadata": {},
   "outputs": [],
   "source": []
  },
  {
   "cell_type": "code",
   "execution_count": null,
   "metadata": {},
   "outputs": [],
   "source": []
  },
  {
   "cell_type": "code",
   "execution_count": null,
   "metadata": {},
   "outputs": [],
   "source": []
  },
  {
   "cell_type": "code",
   "execution_count": null,
   "metadata": {},
   "outputs": [],
   "source": []
  },
  {
   "cell_type": "code",
   "execution_count": null,
   "metadata": {},
   "outputs": [],
   "source": []
  },
  {
   "cell_type": "code",
   "execution_count": null,
   "metadata": {},
   "outputs": [],
   "source": []
  },
  {
   "cell_type": "code",
   "execution_count": null,
   "metadata": {},
   "outputs": [],
   "source": []
  },
  {
   "cell_type": "code",
   "execution_count": null,
   "metadata": {},
   "outputs": [],
   "source": []
  },
  {
   "cell_type": "code",
   "execution_count": null,
   "metadata": {},
   "outputs": [],
   "source": []
  },
  {
   "cell_type": "code",
   "execution_count": null,
   "metadata": {},
   "outputs": [],
   "source": []
  },
  {
   "cell_type": "code",
   "execution_count": null,
   "metadata": {},
   "outputs": [],
   "source": []
  },
  {
   "cell_type": "code",
   "execution_count": null,
   "metadata": {},
   "outputs": [],
   "source": []
  },
  {
   "cell_type": "code",
   "execution_count": null,
   "metadata": {},
   "outputs": [],
   "source": []
  },
  {
   "cell_type": "code",
   "execution_count": null,
   "metadata": {},
   "outputs": [],
   "source": []
  },
  {
   "cell_type": "code",
   "execution_count": null,
   "metadata": {},
   "outputs": [],
   "source": []
  },
  {
   "cell_type": "code",
   "execution_count": null,
   "metadata": {},
   "outputs": [],
   "source": []
  },
  {
   "cell_type": "code",
   "execution_count": null,
   "metadata": {},
   "outputs": [],
   "source": []
  },
  {
   "cell_type": "code",
   "execution_count": null,
   "metadata": {},
   "outputs": [],
   "source": []
  },
  {
   "cell_type": "code",
   "execution_count": null,
   "metadata": {},
   "outputs": [],
   "source": []
  },
  {
   "cell_type": "code",
   "execution_count": null,
   "metadata": {},
   "outputs": [],
   "source": []
  },
  {
   "cell_type": "code",
   "execution_count": null,
   "metadata": {},
   "outputs": [],
   "source": []
  },
  {
   "cell_type": "code",
   "execution_count": null,
   "metadata": {},
   "outputs": [],
   "source": []
  },
  {
   "cell_type": "code",
   "execution_count": null,
   "metadata": {},
   "outputs": [],
   "source": []
  },
  {
   "cell_type": "code",
   "execution_count": null,
   "metadata": {},
   "outputs": [],
   "source": []
  }
 ],
 "metadata": {
  "kernelspec": {
   "display_name": "Python 3.6.13 ('tsinghua')",
   "language": "python",
   "name": "python3"
  },
  "language_info": {
   "codemirror_mode": {
    "name": "ipython",
    "version": 3
   },
   "file_extension": ".py",
   "mimetype": "text/x-python",
   "name": "python",
   "nbconvert_exporter": "python",
   "pygments_lexer": "ipython3",
   "version": "3.6.13"
  },
  "orig_nbformat": 4,
  "vscode": {
   "interpreter": {
    "hash": "0a7b5a4626d32b8252d3636695c99eb70559e5b3a83ef0cdb9ac852ddf775b11"
   }
  }
 },
 "nbformat": 4,
 "nbformat_minor": 2
}
