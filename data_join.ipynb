{
 "cells": [
  {
   "cell_type": "code",
   "execution_count": 1,
   "metadata": {},
   "outputs": [],
   "source": [
    "'''\n",
    "目前有如下几份20220831的数据：\n",
    "1. 原始特征数据\n",
    "2. label数据\n",
    "3. 复推标签数据\n",
    "4. order time数据\n",
    "\n",
    "分别读取这几份数据，各自去重，然后合并\n",
    "'''\n",
    "import re\n",
    "import json\n",
    "import numpy as np\n",
    "import pandas as pd\n",
    "import jieba\n",
    "from zhconv import convert\n",
    "from sklearn.feature_extraction.text import TfidfVectorizer\n",
    "from sklearn.decomposition import PCA\n"
   ]
  },
  {
   "cell_type": "code",
   "execution_count": 3,
   "metadata": {},
   "outputs": [
    {
     "name": "stderr",
     "output_type": "stream",
     "text": [
      "/var/folders/99/wft1658s2mv39cv4wj_rcpqh0000gp/T/ipykernel_20551/1961729654.py:2: DtypeWarning: Columns (6) have mixed types. Specify dtype option on import or set low_memory=False.\n",
      "  raw_feature_data = pd.read_csv('../data_20220831/raw_cvjd_20220831_spark.csv').drop(['Unnamed: 0'], axis=1).drop_duplicates(subset=['cv_id', 'jd_id'], keep='first').reset_index(drop=True)\n",
      "/var/folders/99/wft1658s2mv39cv4wj_rcpqh0000gp/T/ipykernel_20551/1961729654.py:4: DtypeWarning: Columns (10) have mixed types. Specify dtype option on import or set low_memory=False.\n",
      "  label_data = pd.read_csv('../data_20220831/sample_20220831_spark.csv').drop('Unnamed: 0', axis=1).drop_duplicates(subset=['cv_id', 'jd_id'], keep='first').reset_index(drop=True)\n"
     ]
    }
   ],
   "source": [
    "# 原始特征数据\n",
    "raw_feature_data = pd.read_csv('../data_20220831/raw_cvjd_20220831_spark.csv').drop(['Unnamed: 0'], axis=1).drop_duplicates(subset=['cv_id', 'jd_id'], keep='first').reset_index(drop=True)\n",
    "# label数据\n",
    "label_data = pd.read_csv('../data_20220831/sample_20220831_spark.csv').drop('Unnamed: 0', axis=1).drop_duplicates(subset=['cv_id', 'jd_id'], keep='first').reset_index(drop=True)\n",
    "# 复推标签数据\n",
    "rerec_data = pd.read_csv('../data_20220831/sample_resume_type_20220831_spark.csv').drop('Unnamed: 0', axis=1).drop_duplicates(subset=['cv_id', 'jd_id'], keep='first').reset_index(drop=True)\n",
    "# order time数据\n",
    "order_time_data = pd.read_pickle('../generalization_data/cv_jd_time_20220831_82333.pkl')\n"
   ]
  },
  {
   "cell_type": "code",
   "execution_count": 5,
   "metadata": {},
   "outputs": [
    {
     "name": "stdout",
     "output_type": "stream",
     "text": [
      "raw_feature_data的shape: (82333, 86)\n",
      "label_data的shape: (82333, 128)\n",
      "rerec_data的shape: (82333, 3)\n",
      "order_time_data的shape: (82333, 5)\n"
     ]
    }
   ],
   "source": [
    "print('{}的shape: {}'.format('raw_feature_data', raw_feature_data.shape))\n",
    "print('{}的shape: {}'.format('label_data', label_data.shape))\n",
    "print('{}的shape: {}'.format('rerec_data', rerec_data.shape))\n",
    "print('{}的shape: {}'.format('order_time_data', order_time_data.shape))"
   ]
  },
  {
   "cell_type": "code",
   "execution_count": 16,
   "metadata": {},
   "outputs": [
    {
     "data": {
      "text/plain": [
       "Index(['cv_id', 'jd_id', 'cv_code', 'jd_code', 'last_opt', 'da_label',\n",
       "       'rank_label', 'title', 'deadline', 'category_id',\n",
       "       ...\n",
       "       'industry_cut', 'industry_jd2vec', 'industry_vec2', 'majorName_cut',\n",
       "       'majorName_jd2vec', 'majorName_vec2', 'skills_cut', 'skills_jd2vec',\n",
       "       'skills_vec2', 'ds'],\n",
       "      dtype='object', length=128)"
      ]
     },
     "execution_count": 16,
     "metadata": {},
     "output_type": "execute_result"
    }
   ],
   "source": [
    "label_data.columns"
   ]
  },
  {
   "cell_type": "code",
   "execution_count": 13,
   "metadata": {},
   "outputs": [
    {
     "data": {
      "text/plain": [
       "Index(['cv_id', 'jd_id', 'resume_type'], dtype='object')"
      ]
     },
     "execution_count": 13,
     "metadata": {},
     "output_type": "execute_result"
    }
   ],
   "source": [
    "rerec_data.columns"
   ]
  },
  {
   "cell_type": "code",
   "execution_count": 14,
   "metadata": {},
   "outputs": [
    {
     "data": {
      "text/plain": [
       "Index(['cv_id', 'jd_id', 'pair_created_time', 'day', 'month'], dtype='object')"
      ]
     },
     "execution_count": 14,
     "metadata": {},
     "output_type": "execute_result"
    }
   ],
   "source": [
    "order_time_data.columns"
   ]
  },
  {
   "cell_type": "code",
   "execution_count": 17,
   "metadata": {},
   "outputs": [],
   "source": [
    "# 合并上述表的关键信息，raw feature暂时不用考虑\n",
    "cv_jd_raw_label_rank_label = label_data[['cv_id', 'jd_id', 'da_label', 'rank_label']]\n",
    "cv_jd_resume_type = rerec_data[['cv_id', 'jd_id', 'resume_type']]\n",
    "cv_jd_pair_time = order_time_data[['cv_id', 'jd_id', 'month']].rename(columns={'month': 'order_month'})"
   ]
  },
  {
   "cell_type": "code",
   "execution_count": null,
   "metadata": {},
   "outputs": [],
   "source": []
  },
  {
   "cell_type": "code",
   "execution_count": null,
   "metadata": {},
   "outputs": [],
   "source": []
  },
  {
   "cell_type": "code",
   "execution_count": null,
   "metadata": {},
   "outputs": [],
   "source": []
  },
  {
   "cell_type": "code",
   "execution_count": null,
   "metadata": {},
   "outputs": [],
   "source": []
  },
  {
   "cell_type": "code",
   "execution_count": null,
   "metadata": {},
   "outputs": [],
   "source": []
  }
 ],
 "metadata": {
  "kernelspec": {
   "display_name": "Python 3.9.12 ('base')",
   "language": "python",
   "name": "python3"
  },
  "language_info": {
   "codemirror_mode": {
    "name": "ipython",
    "version": 3
   },
   "file_extension": ".py",
   "mimetype": "text/x-python",
   "name": "python",
   "nbconvert_exporter": "python",
   "pygments_lexer": "ipython3",
   "version": "3.9.12"
  },
  "orig_nbformat": 4,
  "vscode": {
   "interpreter": {
    "hash": "f63f3fa61251d3530929b90a6fd0ac6d4fd28461cb09a64c4fa1d09fc6d068be"
   }
  }
 },
 "nbformat": 4,
 "nbformat_minor": 2
}
