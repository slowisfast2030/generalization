{
 "cells": [
  {
   "cell_type": "code",
   "execution_count": 1,
   "metadata": {},
   "outputs": [],
   "source": [
    "'''\n",
    "目前有如下几份20220831的数据：\n",
    "1. 原始特征数据\n",
    "2. label数据\n",
    "3. 复推标签数据\n",
    "4. order time数据\n",
    "\n",
    "分别读取这几份数据，各自去重，然后合并\n",
    "'''\n",
    "import re\n",
    "import json\n",
    "import numpy as np\n",
    "import pandas as pd\n",
    "import jieba\n",
    "from zhconv import convert\n",
    "from sklearn.feature_extraction.text import TfidfVectorizer\n",
    "from sklearn.decomposition import PCA\n"
   ]
  },
  {
   "cell_type": "code",
   "execution_count": 3,
   "metadata": {},
   "outputs": [
    {
     "name": "stderr",
     "output_type": "stream",
     "text": [
      "/var/folders/99/wft1658s2mv39cv4wj_rcpqh0000gp/T/ipykernel_20551/1961729654.py:2: DtypeWarning: Columns (6) have mixed types. Specify dtype option on import or set low_memory=False.\n",
      "  raw_feature_data = pd.read_csv('../data_20220831/raw_cvjd_20220831_spark.csv').drop(['Unnamed: 0'], axis=1).drop_duplicates(subset=['cv_id', 'jd_id'], keep='first').reset_index(drop=True)\n",
      "/var/folders/99/wft1658s2mv39cv4wj_rcpqh0000gp/T/ipykernel_20551/1961729654.py:4: DtypeWarning: Columns (10) have mixed types. Specify dtype option on import or set low_memory=False.\n",
      "  label_data = pd.read_csv('../data_20220831/sample_20220831_spark.csv').drop('Unnamed: 0', axis=1).drop_duplicates(subset=['cv_id', 'jd_id'], keep='first').reset_index(drop=True)\n"
     ]
    }
   ],
   "source": [
    "# 原始特征数据\n",
    "raw_feature_data = pd.read_csv('../data_20220831/raw_cvjd_20220831_spark.csv').drop(['Unnamed: 0'], axis=1).drop_duplicates(subset=['cv_id', 'jd_id'], keep='first').reset_index(drop=True)\n",
    "# label数据\n",
    "label_data = pd.read_csv('../data_20220831/sample_20220831_spark.csv').drop('Unnamed: 0', axis=1).drop_duplicates(subset=['cv_id', 'jd_id'], keep='first').reset_index(drop=True)\n",
    "# 复推标签数据\n",
    "rerec_data = pd.read_csv('../data_20220831/sample_resume_type_20220831_spark.csv').drop('Unnamed: 0', axis=1).drop_duplicates(subset=['cv_id', 'jd_id'], keep='first').reset_index(drop=True)\n",
    "# order time数据\n",
    "order_time_data = pd.read_pickle('../generalization_data/cv_jd_time_20220831_82333.pkl')\n"
   ]
  },
  {
   "cell_type": "code",
   "execution_count": 5,
   "metadata": {},
   "outputs": [
    {
     "name": "stdout",
     "output_type": "stream",
     "text": [
      "raw_feature_data的shape: (82333, 86)\n",
      "label_data的shape: (82333, 128)\n",
      "rerec_data的shape: (82333, 3)\n",
      "order_time_data的shape: (82333, 5)\n"
     ]
    }
   ],
   "source": [
    "print('{}的shape: {}'.format('raw_feature_data', raw_feature_data.shape))\n",
    "print('{}的shape: {}'.format('label_data', label_data.shape))\n",
    "print('{}的shape: {}'.format('rerec_data', rerec_data.shape))\n",
    "print('{}的shape: {}'.format('order_time_data', order_time_data.shape))"
   ]
  },
  {
   "cell_type": "code",
   "execution_count": 16,
   "metadata": {},
   "outputs": [
    {
     "data": {
      "text/plain": [
       "Index(['cv_id', 'jd_id', 'cv_code', 'jd_code', 'last_opt', 'da_label',\n",
       "       'rank_label', 'title', 'deadline', 'category_id',\n",
       "       ...\n",
       "       'industry_cut', 'industry_jd2vec', 'industry_vec2', 'majorName_cut',\n",
       "       'majorName_jd2vec', 'majorName_vec2', 'skills_cut', 'skills_jd2vec',\n",
       "       'skills_vec2', 'ds'],\n",
       "      dtype='object', length=128)"
      ]
     },
     "execution_count": 16,
     "metadata": {},
     "output_type": "execute_result"
    }
   ],
   "source": [
    "label_data.columns"
   ]
  },
  {
   "cell_type": "code",
   "execution_count": 13,
   "metadata": {},
   "outputs": [
    {
     "data": {
      "text/plain": [
       "Index(['cv_id', 'jd_id', 'resume_type'], dtype='object')"
      ]
     },
     "execution_count": 13,
     "metadata": {},
     "output_type": "execute_result"
    }
   ],
   "source": [
    "rerec_data.columns"
   ]
  },
  {
   "cell_type": "code",
   "execution_count": 14,
   "metadata": {},
   "outputs": [
    {
     "data": {
      "text/plain": [
       "Index(['cv_id', 'jd_id', 'pair_created_time', 'day', 'month'], dtype='object')"
      ]
     },
     "execution_count": 14,
     "metadata": {},
     "output_type": "execute_result"
    }
   ],
   "source": [
    "order_time_data.columns"
   ]
  },
  {
   "cell_type": "code",
   "execution_count": 17,
   "metadata": {},
   "outputs": [],
   "source": [
    "# 合并上述表的关键信息，raw feature暂时不用考虑\n",
    "cv_jd_raw_label_rank_label = label_data[['cv_id', 'jd_id', 'da_label', 'rank_label']]\n",
    "cv_jd_resume_type = rerec_data[['cv_id', 'jd_id', 'resume_type']]\n",
    "cv_jd_pair_time = order_time_data[['cv_id', 'jd_id', 'month']].rename(columns={'month': 'order_month'})"
   ]
  },
  {
   "cell_type": "code",
   "execution_count": 21,
   "metadata": {},
   "outputs": [
    {
     "data": {
      "text/html": [
       "<div>\n",
       "<style scoped>\n",
       "    .dataframe tbody tr th:only-of-type {\n",
       "        vertical-align: middle;\n",
       "    }\n",
       "\n",
       "    .dataframe tbody tr th {\n",
       "        vertical-align: top;\n",
       "    }\n",
       "\n",
       "    .dataframe thead th {\n",
       "        text-align: right;\n",
       "    }\n",
       "</style>\n",
       "<table border=\"1\" class=\"dataframe\">\n",
       "  <thead>\n",
       "    <tr style=\"text-align: right;\">\n",
       "      <th></th>\n",
       "      <th>cv_id</th>\n",
       "      <th>jd_id</th>\n",
       "      <th>da_label</th>\n",
       "      <th>rank_label</th>\n",
       "      <th>resume_type</th>\n",
       "      <th>order_month</th>\n",
       "    </tr>\n",
       "  </thead>\n",
       "  <tbody>\n",
       "    <tr>\n",
       "      <th>0</th>\n",
       "      <td>2c9207157bcb9549017bce3ea49b00fa</td>\n",
       "      <td>2c9207157bcbb76b017bce3d99ba059a</td>\n",
       "      <td>1</td>\n",
       "      <td>1</td>\n",
       "      <td>NaN</td>\n",
       "      <td>2021-09</td>\n",
       "    </tr>\n",
       "    <tr>\n",
       "      <th>1</th>\n",
       "      <td>2c9207157bf91042017c1040330d04d3</td>\n",
       "      <td>2c9207157bcbb76b017bec76efca1ca5</td>\n",
       "      <td>-1</td>\n",
       "      <td>1</td>\n",
       "      <td>4.0</td>\n",
       "      <td>2021-09</td>\n",
       "    </tr>\n",
       "    <tr>\n",
       "      <th>2</th>\n",
       "      <td>2c9207157bf91042017c10f871d309f4</td>\n",
       "      <td>2c9207157f347800017f624770866105</td>\n",
       "      <td>1</td>\n",
       "      <td>1</td>\n",
       "      <td>4.0</td>\n",
       "      <td>2022-03</td>\n",
       "    </tr>\n",
       "    <tr>\n",
       "      <th>3</th>\n",
       "      <td>2c9207157bf91042017c62fce2583411</td>\n",
       "      <td>2c9207157b9b9199017bca11fd3d3f11</td>\n",
       "      <td>2</td>\n",
       "      <td>2</td>\n",
       "      <td>NaN</td>\n",
       "      <td>2021-10</td>\n",
       "    </tr>\n",
       "    <tr>\n",
       "      <th>4</th>\n",
       "      <td>2c9207157bf91042017c6ecc163d3aa8</td>\n",
       "      <td>2c9207157bf94d99017c6ecb294930b1</td>\n",
       "      <td>3</td>\n",
       "      <td>3</td>\n",
       "      <td>NaN</td>\n",
       "      <td>2021-10</td>\n",
       "    </tr>\n",
       "    <tr>\n",
       "      <th>...</th>\n",
       "      <td>...</td>\n",
       "      <td>...</td>\n",
       "      <td>...</td>\n",
       "      <td>...</td>\n",
       "      <td>...</td>\n",
       "      <td>...</td>\n",
       "    </tr>\n",
       "    <tr>\n",
       "      <th>82328</th>\n",
       "      <td>8a69d7c28219945301823a12e0266463</td>\n",
       "      <td>8a69c4df82b081d30182c9ec1ecd1c67</td>\n",
       "      <td>-1</td>\n",
       "      <td>1</td>\n",
       "      <td>5.0</td>\n",
       "      <td>2022-08</td>\n",
       "    </tr>\n",
       "    <tr>\n",
       "      <th>82329</th>\n",
       "      <td>8a69d7c282199453018246ebf6b60643</td>\n",
       "      <td>8a69f67f82198d89018234adfcd91510</td>\n",
       "      <td>-1</td>\n",
       "      <td>2</td>\n",
       "      <td>4.0</td>\n",
       "      <td>2022-07</td>\n",
       "    </tr>\n",
       "    <tr>\n",
       "      <th>82330</th>\n",
       "      <td>8a69d7c282199453018247bb00cb68a3</td>\n",
       "      <td>8a69c468826ee9b40182831bedfc5e79</td>\n",
       "      <td>3</td>\n",
       "      <td>3</td>\n",
       "      <td>4.0</td>\n",
       "      <td>2022-08</td>\n",
       "    </tr>\n",
       "    <tr>\n",
       "      <th>82331</th>\n",
       "      <td>8a69d7c282199453018247bb00cb68a3</td>\n",
       "      <td>8a69f6f8823a93b9018247c30aca4e3d</td>\n",
       "      <td>-1</td>\n",
       "      <td>2</td>\n",
       "      <td>4.0</td>\n",
       "      <td>2022-07</td>\n",
       "    </tr>\n",
       "    <tr>\n",
       "      <th>82332</th>\n",
       "      <td>8a69f68b828a2cd901829182c78e1c50</td>\n",
       "      <td>8a69c468826ee9b4018290a8b6460496</td>\n",
       "      <td>3</td>\n",
       "      <td>3</td>\n",
       "      <td>4.0</td>\n",
       "      <td>2022-08</td>\n",
       "    </tr>\n",
       "  </tbody>\n",
       "</table>\n",
       "<p>82333 rows × 6 columns</p>\n",
       "</div>"
      ],
      "text/plain": [
       "                                  cv_id                             jd_id  \\\n",
       "0      2c9207157bcb9549017bce3ea49b00fa  2c9207157bcbb76b017bce3d99ba059a   \n",
       "1      2c9207157bf91042017c1040330d04d3  2c9207157bcbb76b017bec76efca1ca5   \n",
       "2      2c9207157bf91042017c10f871d309f4  2c9207157f347800017f624770866105   \n",
       "3      2c9207157bf91042017c62fce2583411  2c9207157b9b9199017bca11fd3d3f11   \n",
       "4      2c9207157bf91042017c6ecc163d3aa8  2c9207157bf94d99017c6ecb294930b1   \n",
       "...                                 ...                               ...   \n",
       "82328  8a69d7c28219945301823a12e0266463  8a69c4df82b081d30182c9ec1ecd1c67   \n",
       "82329  8a69d7c282199453018246ebf6b60643  8a69f67f82198d89018234adfcd91510   \n",
       "82330  8a69d7c282199453018247bb00cb68a3  8a69c468826ee9b40182831bedfc5e79   \n",
       "82331  8a69d7c282199453018247bb00cb68a3  8a69f6f8823a93b9018247c30aca4e3d   \n",
       "82332  8a69f68b828a2cd901829182c78e1c50  8a69c468826ee9b4018290a8b6460496   \n",
       "\n",
       "       da_label  rank_label  resume_type order_month  \n",
       "0             1           1          NaN     2021-09  \n",
       "1            -1           1          4.0     2021-09  \n",
       "2             1           1          4.0     2022-03  \n",
       "3             2           2          NaN     2021-10  \n",
       "4             3           3          NaN     2021-10  \n",
       "...         ...         ...          ...         ...  \n",
       "82328        -1           1          5.0     2022-08  \n",
       "82329        -1           2          4.0     2022-07  \n",
       "82330         3           3          4.0     2022-08  \n",
       "82331        -1           2          4.0     2022-07  \n",
       "82332         3           3          4.0     2022-08  \n",
       "\n",
       "[82333 rows x 6 columns]"
      ]
     },
     "execution_count": 21,
     "metadata": {},
     "output_type": "execute_result"
    }
   ],
   "source": [
    "res = cv_jd_raw_label_rank_label.\\\n",
    "            join(cv_jd_resume_type.set_index(['cv_id', 'jd_id']), on=['cv_id', 'jd_id'], how='inner').\\\n",
    "            join(cv_jd_pair_time.set_index(['cv_id', 'jd_id']), on=['cv_id', 'jd_id'], how='inner')\n",
    "res"
   ]
  },
  {
   "cell_type": "code",
   "execution_count": null,
   "metadata": {},
   "outputs": [],
   "source": []
  },
  {
   "cell_type": "code",
   "execution_count": null,
   "metadata": {},
   "outputs": [],
   "source": []
  },
  {
   "cell_type": "code",
   "execution_count": null,
   "metadata": {},
   "outputs": [],
   "source": []
  },
  {
   "cell_type": "code",
   "execution_count": null,
   "metadata": {},
   "outputs": [],
   "source": []
  }
 ],
 "metadata": {
  "kernelspec": {
   "display_name": "Python 3.9.12 ('base')",
   "language": "python",
   "name": "python3"
  },
  "language_info": {
   "codemirror_mode": {
    "name": "ipython",
    "version": 3
   },
   "file_extension": ".py",
   "mimetype": "text/x-python",
   "name": "python",
   "nbconvert_exporter": "python",
   "pygments_lexer": "ipython3",
   "version": "3.9.12"
  },
  "orig_nbformat": 4,
  "vscode": {
   "interpreter": {
    "hash": "f63f3fa61251d3530929b90a6fd0ac6d4fd28461cb09a64c4fa1d09fc6d068be"
   }
  }
 },
 "nbformat": 4,
 "nbformat_minor": 2
}
